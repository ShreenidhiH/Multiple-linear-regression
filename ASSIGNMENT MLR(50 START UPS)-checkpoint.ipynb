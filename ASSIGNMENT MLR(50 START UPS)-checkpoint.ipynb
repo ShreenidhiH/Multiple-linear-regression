{
 "cells": [
  {
   "cell_type": "code",
   "execution_count": 34,
   "id": "f41297f8",
   "metadata": {},
   "outputs": [],
   "source": [
    "import pandas as pd\n",
    "import numpy as np\n",
    "import seaborn as sn\n",
    "import matplotlib.pyplot as plt\n",
    "import statsmodels.formula.api as smf\n",
    "import warnings\n",
    "warnings.filterwarnings(\"ignore\")"
   ]
  },
  {
   "cell_type": "code",
   "execution_count": 35,
   "id": "b7142eea",
   "metadata": {},
   "outputs": [],
   "source": [
    "data=pd.read_csv(\"50_Startups.csv\")"
   ]
  },
  {
   "cell_type": "code",
   "execution_count": 36,
   "id": "5ec2ddaf",
   "metadata": {},
   "outputs": [
    {
     "data": {
      "text/html": [
       "<div>\n",
       "<style scoped>\n",
       "    .dataframe tbody tr th:only-of-type {\n",
       "        vertical-align: middle;\n",
       "    }\n",
       "\n",
       "    .dataframe tbody tr th {\n",
       "        vertical-align: top;\n",
       "    }\n",
       "\n",
       "    .dataframe thead th {\n",
       "        text-align: right;\n",
       "    }\n",
       "</style>\n",
       "<table border=\"1\" class=\"dataframe\">\n",
       "  <thead>\n",
       "    <tr style=\"text-align: right;\">\n",
       "      <th></th>\n",
       "      <th>R&amp;D Spend</th>\n",
       "      <th>Administration</th>\n",
       "      <th>Marketing Spend</th>\n",
       "      <th>State</th>\n",
       "      <th>Profit</th>\n",
       "    </tr>\n",
       "  </thead>\n",
       "  <tbody>\n",
       "    <tr>\n",
       "      <th>0</th>\n",
       "      <td>165349.20</td>\n",
       "      <td>136897.80</td>\n",
       "      <td>471784.10</td>\n",
       "      <td>New York</td>\n",
       "      <td>192261.83</td>\n",
       "    </tr>\n",
       "    <tr>\n",
       "      <th>1</th>\n",
       "      <td>162597.70</td>\n",
       "      <td>151377.59</td>\n",
       "      <td>443898.53</td>\n",
       "      <td>California</td>\n",
       "      <td>191792.06</td>\n",
       "    </tr>\n",
       "    <tr>\n",
       "      <th>2</th>\n",
       "      <td>153441.51</td>\n",
       "      <td>101145.55</td>\n",
       "      <td>407934.54</td>\n",
       "      <td>Florida</td>\n",
       "      <td>191050.39</td>\n",
       "    </tr>\n",
       "    <tr>\n",
       "      <th>3</th>\n",
       "      <td>144372.41</td>\n",
       "      <td>118671.85</td>\n",
       "      <td>383199.62</td>\n",
       "      <td>New York</td>\n",
       "      <td>182901.99</td>\n",
       "    </tr>\n",
       "    <tr>\n",
       "      <th>4</th>\n",
       "      <td>142107.34</td>\n",
       "      <td>91391.77</td>\n",
       "      <td>366168.42</td>\n",
       "      <td>Florida</td>\n",
       "      <td>166187.94</td>\n",
       "    </tr>\n",
       "  </tbody>\n",
       "</table>\n",
       "</div>"
      ],
      "text/plain": [
       "   R&D Spend  Administration  Marketing Spend       State     Profit\n",
       "0  165349.20       136897.80        471784.10    New York  192261.83\n",
       "1  162597.70       151377.59        443898.53  California  191792.06\n",
       "2  153441.51       101145.55        407934.54     Florida  191050.39\n",
       "3  144372.41       118671.85        383199.62    New York  182901.99\n",
       "4  142107.34        91391.77        366168.42     Florida  166187.94"
      ]
     },
     "execution_count": 36,
     "metadata": {},
     "output_type": "execute_result"
    }
   ],
   "source": [
    "data.head()"
   ]
  },
  {
   "cell_type": "code",
   "execution_count": 37,
   "id": "01dcf2e1",
   "metadata": {},
   "outputs": [
    {
     "data": {
      "text/plain": [
       "(50, 5)"
      ]
     },
     "execution_count": 37,
     "metadata": {},
     "output_type": "execute_result"
    }
   ],
   "source": [
    "data.shape"
   ]
  },
  {
   "cell_type": "markdown",
   "id": "b75b8aec",
   "metadata": {},
   "source": [
    "# EDA and Visualization of Data"
   ]
  },
  {
   "cell_type": "code",
   "execution_count": 38,
   "id": "4c3df0ae",
   "metadata": {},
   "outputs": [
    {
     "name": "stdout",
     "output_type": "stream",
     "text": [
      "<class 'pandas.core.frame.DataFrame'>\n",
      "RangeIndex: 50 entries, 0 to 49\n",
      "Data columns (total 5 columns):\n",
      " #   Column           Non-Null Count  Dtype  \n",
      "---  ------           --------------  -----  \n",
      " 0   R&D Spend        50 non-null     float64\n",
      " 1   Administration   50 non-null     float64\n",
      " 2   Marketing Spend  50 non-null     float64\n",
      " 3   State            50 non-null     object \n",
      " 4   Profit           50 non-null     float64\n",
      "dtypes: float64(4), object(1)\n",
      "memory usage: 2.1+ KB\n"
     ]
    }
   ],
   "source": [
    "data.info()"
   ]
  },
  {
   "cell_type": "code",
   "execution_count": 39,
   "id": "60542230",
   "metadata": {},
   "outputs": [
    {
     "data": {
      "text/plain": [
       "False"
      ]
     },
     "execution_count": 39,
     "metadata": {},
     "output_type": "execute_result"
    }
   ],
   "source": [
    "# Checking for duplicate values\n",
    "data.duplicated().any()"
   ]
  },
  {
   "cell_type": "markdown",
   "id": "ea8e0965",
   "metadata": {},
   "source": [
    "There are no duplicate values"
   ]
  },
  {
   "cell_type": "code",
   "execution_count": 40,
   "id": "3f91aa8a",
   "metadata": {},
   "outputs": [
    {
     "data": {
      "text/plain": [
       "R&D Spend          False\n",
       "Administration     False\n",
       "Marketing Spend    False\n",
       "State              False\n",
       "Profit             False\n",
       "dtype: bool"
      ]
     },
     "execution_count": 40,
     "metadata": {},
     "output_type": "execute_result"
    }
   ],
   "source": [
    "#Checking for null values\n",
    "data.isnull().any()"
   ]
  },
  {
   "cell_type": "markdown",
   "id": "bce064bf",
   "metadata": {},
   "source": [
    "There are no null values"
   ]
  },
  {
   "cell_type": "code",
   "execution_count": 41,
   "id": "5f59c446",
   "metadata": {},
   "outputs": [
    {
     "data": {
      "text/html": [
       "<div>\n",
       "<style scoped>\n",
       "    .dataframe tbody tr th:only-of-type {\n",
       "        vertical-align: middle;\n",
       "    }\n",
       "\n",
       "    .dataframe tbody tr th {\n",
       "        vertical-align: top;\n",
       "    }\n",
       "\n",
       "    .dataframe thead th {\n",
       "        text-align: right;\n",
       "    }\n",
       "</style>\n",
       "<table border=\"1\" class=\"dataframe\">\n",
       "  <thead>\n",
       "    <tr style=\"text-align: right;\">\n",
       "      <th></th>\n",
       "      <th>R&amp;D Spend</th>\n",
       "      <th>Administration</th>\n",
       "      <th>Marketing Spend</th>\n",
       "      <th>Profit</th>\n",
       "    </tr>\n",
       "  </thead>\n",
       "  <tbody>\n",
       "    <tr>\n",
       "      <th>count</th>\n",
       "      <td>50.000000</td>\n",
       "      <td>50.000000</td>\n",
       "      <td>50.000000</td>\n",
       "      <td>50.000000</td>\n",
       "    </tr>\n",
       "    <tr>\n",
       "      <th>mean</th>\n",
       "      <td>73721.615600</td>\n",
       "      <td>121344.639600</td>\n",
       "      <td>211025.097800</td>\n",
       "      <td>112012.639200</td>\n",
       "    </tr>\n",
       "    <tr>\n",
       "      <th>std</th>\n",
       "      <td>45902.256482</td>\n",
       "      <td>28017.802755</td>\n",
       "      <td>122290.310726</td>\n",
       "      <td>40306.180338</td>\n",
       "    </tr>\n",
       "    <tr>\n",
       "      <th>min</th>\n",
       "      <td>0.000000</td>\n",
       "      <td>51283.140000</td>\n",
       "      <td>0.000000</td>\n",
       "      <td>14681.400000</td>\n",
       "    </tr>\n",
       "    <tr>\n",
       "      <th>25%</th>\n",
       "      <td>39936.370000</td>\n",
       "      <td>103730.875000</td>\n",
       "      <td>129300.132500</td>\n",
       "      <td>90138.902500</td>\n",
       "    </tr>\n",
       "    <tr>\n",
       "      <th>50%</th>\n",
       "      <td>73051.080000</td>\n",
       "      <td>122699.795000</td>\n",
       "      <td>212716.240000</td>\n",
       "      <td>107978.190000</td>\n",
       "    </tr>\n",
       "    <tr>\n",
       "      <th>75%</th>\n",
       "      <td>101602.800000</td>\n",
       "      <td>144842.180000</td>\n",
       "      <td>299469.085000</td>\n",
       "      <td>139765.977500</td>\n",
       "    </tr>\n",
       "    <tr>\n",
       "      <th>max</th>\n",
       "      <td>165349.200000</td>\n",
       "      <td>182645.560000</td>\n",
       "      <td>471784.100000</td>\n",
       "      <td>192261.830000</td>\n",
       "    </tr>\n",
       "  </tbody>\n",
       "</table>\n",
       "</div>"
      ],
      "text/plain": [
       "           R&D Spend  Administration  Marketing Spend         Profit\n",
       "count      50.000000       50.000000        50.000000      50.000000\n",
       "mean    73721.615600   121344.639600    211025.097800  112012.639200\n",
       "std     45902.256482    28017.802755    122290.310726   40306.180338\n",
       "min         0.000000    51283.140000         0.000000   14681.400000\n",
       "25%     39936.370000   103730.875000    129300.132500   90138.902500\n",
       "50%     73051.080000   122699.795000    212716.240000  107978.190000\n",
       "75%    101602.800000   144842.180000    299469.085000  139765.977500\n",
       "max    165349.200000   182645.560000    471784.100000  192261.830000"
      ]
     },
     "execution_count": 41,
     "metadata": {},
     "output_type": "execute_result"
    }
   ],
   "source": [
    "# Checking The statics of the Data\n",
    "data.describe()"
   ]
  },
  {
   "cell_type": "code",
   "execution_count": 42,
   "id": "d6b917d5",
   "metadata": {},
   "outputs": [],
   "source": [
    "all_states=data.State.value_counts().reset_index()"
   ]
  },
  {
   "cell_type": "code",
   "execution_count": 43,
   "id": "62fef89a",
   "metadata": {},
   "outputs": [
    {
     "data": {
      "text/plain": [
       "<AxesSubplot:xlabel='State', ylabel='Profit'>"
      ]
     },
     "execution_count": 43,
     "metadata": {},
     "output_type": "execute_result"
    },
    {
     "data": {
      "image/png": "[encoded data removed]",
      "text/plain": [
       "<Figure size 432x288 with 1 Axes>"
      ]
     },
     "metadata": {
      "needs_background": "light"
     },
     "output_type": "display_data"
    }
   ],
   "source": [
    "# Checking Profit For Each States\n",
    "sn.barplot(data.State,data.Profit)"
   ]
  },
  {
   "cell_type": "markdown",
   "id": "2ff88178",
   "metadata": {},
   "source": [
    "1.Florida makes most profit\n",
    "\n",
    "2.California makes Least profit"
   ]
  },
  {
   "cell_type": "code",
   "execution_count": 44,
   "id": "0e03d2f0",
   "metadata": {},
   "outputs": [
    {
     "data": {
      "image/png": "[encoded data removed]",
      "text/plain": [
       "<Figure size 432x288 with 1 Axes>"
      ]
     },
     "metadata": {
      "needs_background": "light"
     },
     "output_type": "display_data"
    },
    {
     "data": {
      "image/png": "[encoded data removed]",
      "text/plain": [
       "<Figure size 432x288 with 1 Axes>"
      ]
     },
     "metadata": {
      "needs_background": "light"
     },
     "output_type": "display_data"
    },
    {
     "data": {
      "image/png": "[encoded data removed]",
      "text/plain": [
       "<Figure size 432x288 with 1 Axes>"
      ]
     },
     "metadata": {
      "needs_background": "light"
     },
     "output_type": "display_data"
    }
   ],
   "source": [
    "# Checking spend od Each states \n",
    "for i in data.iloc[:,[0,1,2]]:\n",
    "    sn.barplot(data.State,data[i])\n",
    "    plt.ylabel(i)\n",
    "    plt.show()"
   ]
  },
  {
   "cell_type": "markdown",
   "id": "833b3407",
   "metadata": {},
   "source": [
    "##### OBSERVATIONS:\n",
    "1. The Administration spend of Each States is almost Same.\n",
    "2. RandD spend and Marketing Spend is done more in Florida.\n",
    "3. Where as, RandD spend and Marketing Spend is done least in California state.\n",
    "   "
   ]
  },
  {
   "cell_type": "code",
   "execution_count": 45,
   "id": "cd30e47d",
   "metadata": {},
   "outputs": [],
   "source": [
    "spend=data['R&D Spend']+data['Administration']+data['Marketing Spend']"
   ]
  },
  {
   "cell_type": "code",
   "execution_count": 46,
   "id": "3c279c1c",
   "metadata": {},
   "outputs": [
    {
     "data": {
      "text/plain": [
       "<AxesSubplot:xlabel='State'>"
      ]
     },
     "execution_count": 46,
     "metadata": {},
     "output_type": "execute_result"
    },
    {
     "data": {
      "image/png": "[encoded data removed]",
      "text/plain": [
       "<Figure size 432x288 with 1 Axes>"
      ]
     },
     "metadata": {
      "needs_background": "light"
     },
     "output_type": "display_data"
    }
   ],
   "source": [
    "sn.barplot(data.State,spend)"
   ]
  },
  {
   "cell_type": "markdown",
   "id": "daf2810f",
   "metadata": {},
   "source": [
    "#### Total spend is more in Florida And Profit is also more in florida "
   ]
  },
  {
   "cell_type": "code",
   "execution_count": 47,
   "id": "67d03564",
   "metadata": {},
   "outputs": [
    {
     "data": {
      "image/png": "[encoded data removed]",
      "text/plain": [
       "<Figure size 432x360 with 1 Axes>"
      ]
     },
     "metadata": {
      "needs_background": "light"
     },
     "output_type": "display_data"
    },
    {
     "data": {
      "image/png": "[encoded data removed]",
      "text/plain": [
       "<Figure size 432x360 with 1 Axes>"
      ]
     },
     "metadata": {
      "needs_background": "light"
     },
     "output_type": "display_data"
    },
    {
     "data": {
      "image/png": "[encoded data removed]",
      "text/plain": [
       "<Figure size 432x360 with 1 Axes>"
      ]
     },
     "metadata": {
      "needs_background": "light"
     },
     "output_type": "display_data"
    },
    {
     "data": {
      "image/png": "[encoded data removed]",
      "text/plain": [
       "<Figure size 432x360 with 1 Axes>"
      ]
     },
     "metadata": {
      "needs_background": "light"
     },
     "output_type": "display_data"
    }
   ],
   "source": [
    "# Checking Outliers using boxplot \n",
    "for i in data.iloc[:,[0,1,2,4]]:\n",
    "    plt.figure(figsize=(6,5))\n",
    "    sn.boxplot(data[i])\n",
    "    plt.xlabel(i)\n",
    "    plt.show()"
   ]
  },
  {
   "cell_type": "markdown",
   "id": "68325ded",
   "metadata": {},
   "source": [
    "#### Except Profit no other column has outliers"
   ]
  },
  {
   "cell_type": "code",
   "execution_count": 48,
   "id": "8e933ae1",
   "metadata": {},
   "outputs": [
    {
     "data": {
      "text/html": [
       "<div>\n",
       "<style scoped>\n",
       "    .dataframe tbody tr th:only-of-type {\n",
       "        vertical-align: middle;\n",
       "    }\n",
       "\n",
       "    .dataframe tbody tr th {\n",
       "        vertical-align: top;\n",
       "    }\n",
       "\n",
       "    .dataframe thead th {\n",
       "        text-align: right;\n",
       "    }\n",
       "</style>\n",
       "<table border=\"1\" class=\"dataframe\">\n",
       "  <thead>\n",
       "    <tr style=\"text-align: right;\">\n",
       "      <th></th>\n",
       "      <th>index</th>\n",
       "      <th>R&amp;D Spend</th>\n",
       "      <th>Administration</th>\n",
       "      <th>Marketing Spend</th>\n",
       "      <th>State</th>\n",
       "      <th>Profit</th>\n",
       "    </tr>\n",
       "  </thead>\n",
       "  <tbody>\n",
       "    <tr>\n",
       "      <th>0</th>\n",
       "      <td>49</td>\n",
       "      <td>0.0</td>\n",
       "      <td>116983.8</td>\n",
       "      <td>45173.06</td>\n",
       "      <td>California</td>\n",
       "      <td>14681.4</td>\n",
       "    </tr>\n",
       "  </tbody>\n",
       "</table>\n",
       "</div>"
      ],
      "text/plain": [
       "   index  R&D Spend  Administration  Marketing Spend       State   Profit\n",
       "0     49        0.0        116983.8         45173.06  California  14681.4"
      ]
     },
     "execution_count": 48,
     "metadata": {},
     "output_type": "execute_result"
    }
   ],
   "source": [
    "# Finding the outlier\n",
    "lower_fence=data.Profit.quantile(0.25)-1.5*(data.Profit.quantile(0.75)-data.Profit.quantile(0.25))\n",
    "data[data['Profit']<lower_fence].reset_index()"
   ]
  },
  {
   "cell_type": "code",
   "execution_count": 49,
   "id": "e4f4f36f",
   "metadata": {},
   "outputs": [],
   "source": [
    "# Replacing the outlier with lower fence\n",
    "data['Profit']=np.where(data['Profit']<lower_fence,lower_fence,data['Profit'])"
   ]
  },
  {
   "cell_type": "code",
   "execution_count": 50,
   "id": "a8acc120",
   "metadata": {},
   "outputs": [
    {
     "data": {
      "text/plain": [
       "Text(0.5, 0, 'profit')"
      ]
     },
     "execution_count": 50,
     "metadata": {},
     "output_type": "execute_result"
    },
    {
     "data": {
      "image/png": "[encoded data removed]",
      "text/plain": [
       "<Figure size 432x288 with 1 Axes>"
      ]
     },
     "metadata": {
      "needs_background": "light"
     },
     "output_type": "display_data"
    }
   ],
   "source": [
    "# Again plotting boxplot for profit\n",
    "sn.boxplot(data[\"Profit\"])\n",
    "plt.xlabel(\"profit\")"
   ]
  },
  {
   "cell_type": "markdown",
   "id": "cc40c228",
   "metadata": {},
   "source": [
    "#### Outlier is replaced now."
   ]
  },
  {
   "cell_type": "code",
   "execution_count": 51,
   "id": "f3534e17",
   "metadata": {},
   "outputs": [
    {
     "data": {
      "text/html": [
       "<div>\n",
       "<style scoped>\n",
       "    .dataframe tbody tr th:only-of-type {\n",
       "        vertical-align: middle;\n",
       "    }\n",
       "\n",
       "    .dataframe tbody tr th {\n",
       "        vertical-align: top;\n",
       "    }\n",
       "\n",
       "    .dataframe thead th {\n",
       "        text-align: right;\n",
       "    }\n",
       "</style>\n",
       "<table border=\"1\" class=\"dataframe\">\n",
       "  <thead>\n",
       "    <tr style=\"text-align: right;\">\n",
       "      <th></th>\n",
       "      <th>R&amp;D Spend</th>\n",
       "      <th>Administration</th>\n",
       "      <th>Marketing Spend</th>\n",
       "      <th>Profit</th>\n",
       "    </tr>\n",
       "  </thead>\n",
       "  <tbody>\n",
       "    <tr>\n",
       "      <th>R&amp;D Spend</th>\n",
       "      <td>1.000000</td>\n",
       "      <td>0.241955</td>\n",
       "      <td>0.724248</td>\n",
       "      <td>0.973278</td>\n",
       "    </tr>\n",
       "    <tr>\n",
       "      <th>Administration</th>\n",
       "      <td>0.241955</td>\n",
       "      <td>1.000000</td>\n",
       "      <td>-0.032154</td>\n",
       "      <td>0.200885</td>\n",
       "    </tr>\n",
       "    <tr>\n",
       "      <th>Marketing Spend</th>\n",
       "      <td>0.724248</td>\n",
       "      <td>-0.032154</td>\n",
       "      <td>1.000000</td>\n",
       "      <td>0.747993</td>\n",
       "    </tr>\n",
       "    <tr>\n",
       "      <th>Profit</th>\n",
       "      <td>0.973278</td>\n",
       "      <td>0.200885</td>\n",
       "      <td>0.747993</td>\n",
       "      <td>1.000000</td>\n",
       "    </tr>\n",
       "  </tbody>\n",
       "</table>\n",
       "</div>"
      ],
      "text/plain": [
       "                 R&D Spend  Administration  Marketing Spend    Profit\n",
       "R&D Spend         1.000000        0.241955         0.724248  0.973278\n",
       "Administration    0.241955        1.000000        -0.032154  0.200885\n",
       "Marketing Spend   0.724248       -0.032154         1.000000  0.747993\n",
       "Profit            0.973278        0.200885         0.747993  1.000000"
      ]
     },
     "execution_count": 51,
     "metadata": {},
     "output_type": "execute_result"
    }
   ],
   "source": [
    "# Checking The corelation of all variables \n",
    "data.corr()"
   ]
  },
  {
   "cell_type": "markdown",
   "id": "24998b37",
   "metadata": {},
   "source": [
    "### Plotting corelations"
   ]
  },
  {
   "cell_type": "code",
   "execution_count": 52,
   "id": "7ac9d161",
   "metadata": {},
   "outputs": [
    {
     "data": {
      "text/plain": [
       "<seaborn.axisgrid.PairGrid at 0x199abad60a0>"
      ]
     },
     "execution_count": 52,
     "metadata": {},
     "output_type": "execute_result"
    },
    {
     "data": {
      "image/png": "[encoded data removed]",
      "text/plain": [
       "<Figure size 720x720 with 14 Axes>"
      ]
     },
     "metadata": {
      "needs_background": "light"
     },
     "output_type": "display_data"
    }
   ],
   "source": [
    "# Pair plot\n",
    "sn.pairplot(data,corner=True)"
   ]
  },
  {
   "cell_type": "code",
   "execution_count": 53,
   "id": "518a8775",
   "metadata": {},
   "outputs": [
    {
     "data": {
      "text/plain": [
       "<AxesSubplot:>"
      ]
     },
     "execution_count": 53,
     "metadata": {},
     "output_type": "execute_result"
    },
    {
     "data": {
      "image/png": "[encoded data removed]",
      "text/plain": [
       "<Figure size 432x288 with 2 Axes>"
      ]
     },
     "metadata": {
      "needs_background": "light"
     },
     "output_type": "display_data"
    }
   ],
   "source": [
    "# Heat map\n",
    "sn.heatmap(data.iloc[:,:3].corr(),annot=True)"
   ]
  },
  {
   "cell_type": "markdown",
   "id": "7df4e04d",
   "metadata": {},
   "source": [
    "### Clearly RandD spend and Marketing Spend are colinear."
   ]
  },
  {
   "cell_type": "code",
   "execution_count": 54,
   "id": "81b08ec8",
   "metadata": {},
   "outputs": [
    {
     "data": {
      "image/png": "[encoded data removed]",
      "text/plain": [
       "<Figure size 432x360 with 1 Axes>"
      ]
     },
     "metadata": {
      "needs_background": "light"
     },
     "output_type": "display_data"
    },
    {
     "data": {
      "image/png": "[encoded data removed]",
      "text/plain": [
       "<Figure size 432x360 with 1 Axes>"
      ]
     },
     "metadata": {
      "needs_background": "light"
     },
     "output_type": "display_data"
    },
    {
     "data": {
      "image/png": "[encoded data removed]",
      "text/plain": [
       "<Figure size 432x360 with 1 Axes>"
      ]
     },
     "metadata": {
      "needs_background": "light"
     },
     "output_type": "display_data"
    },
    {
     "data": {
      "image/png": "[encoded data removed]",
      "text/plain": [
       "<Figure size 432x360 with 1 Axes>"
      ]
     },
     "metadata": {
      "needs_background": "light"
     },
     "output_type": "display_data"
    }
   ],
   "source": [
    "# Checking The Distribution of Each Feature\n",
    "for i in data.iloc[:,[0,1,2,4]]:\n",
    "    plt.figure(figsize=(6,5))\n",
    "    sn.distplot(data[i],kde=True)\n",
    "    plt.xlabel(i)\n",
    "    plt.show()"
   ]
  },
  {
   "cell_type": "markdown",
   "id": "1ba899a6",
   "metadata": {},
   "source": [
    "Observations:\n",
    "1. Profit is Normally Distributed\n",
    "2. R and D spend and marketing spend is almost normal distribution\n",
    "3. administration looks a little negetively skewed"
   ]
  },
  {
   "cell_type": "code",
   "execution_count": 55,
   "id": "655f8d8a",
   "metadata": {},
   "outputs": [
    {
     "data": {
      "text/html": [
       "<div>\n",
       "<style scoped>\n",
       "    .dataframe tbody tr th:only-of-type {\n",
       "        vertical-align: middle;\n",
       "    }\n",
       "\n",
       "    .dataframe tbody tr th {\n",
       "        vertical-align: top;\n",
       "    }\n",
       "\n",
       "    .dataframe thead th {\n",
       "        text-align: right;\n",
       "    }\n",
       "</style>\n",
       "<table border=\"1\" class=\"dataframe\">\n",
       "  <thead>\n",
       "    <tr style=\"text-align: right;\">\n",
       "      <th></th>\n",
       "      <th>R&amp;D Spend</th>\n",
       "      <th>Administration</th>\n",
       "      <th>Marketing Spend</th>\n",
       "      <th>Profit</th>\n",
       "      <th>State_California</th>\n",
       "      <th>State_Florida</th>\n",
       "      <th>State_New York</th>\n",
       "    </tr>\n",
       "  </thead>\n",
       "  <tbody>\n",
       "    <tr>\n",
       "      <th>0</th>\n",
       "      <td>165349.2</td>\n",
       "      <td>136897.8</td>\n",
       "      <td>471784.1</td>\n",
       "      <td>192261.83</td>\n",
       "      <td>0</td>\n",
       "      <td>0</td>\n",
       "      <td>1</td>\n",
       "    </tr>\n",
       "  </tbody>\n",
       "</table>\n",
       "</div>"
      ],
      "text/plain": [
       "   R&D Spend  Administration  Marketing Spend     Profit  State_California  \\\n",
       "0   165349.2        136897.8         471784.1  192261.83                 0   \n",
       "\n",
       "   State_Florida  State_New York  \n",
       "0              0               1  "
      ]
     },
     "execution_count": 55,
     "metadata": {},
     "output_type": "execute_result"
    }
   ],
   "source": [
    "# Dummification of state feature\n",
    "data_1=pd.get_dummies(data)\n",
    "data_1.head(1)\n"
   ]
  },
  {
   "cell_type": "code",
   "execution_count": 79,
   "id": "f36d70aa",
   "metadata": {},
   "outputs": [],
   "source": [
    "# Separating Depenpent(y) and independent variable(X)\n",
    "x=data_1[['R&D Spend','Administration','Marketing Spend','State_California','State_Florida','State_New York']]\n",
    "y=data_1[\"Profit\"]\n"
   ]
  },
  {
   "cell_type": "code",
   "execution_count": 84,
   "id": "a73c6f8f",
   "metadata": {},
   "outputs": [
    {
     "data": {
      "text/plain": [
       "6"
      ]
     },
     "execution_count": 84,
     "metadata": {},
     "output_type": "execute_result"
    }
   ],
   "source": []
  },
  {
   "cell_type": "markdown",
   "id": "5376d38b",
   "metadata": {},
   "source": [
    "## Model Building And Subset selection"
   ]
  },
  {
   "cell_type": "code",
   "execution_count": 70,
   "id": "957570d8",
   "metadata": {},
   "outputs": [],
   "source": [
    "import statsmodels.api as sm\n",
    "model1=sm.OLS(y,x).fit()"
   ]
  },
  {
   "cell_type": "code",
   "execution_count": 71,
   "id": "dfa18510",
   "metadata": {},
   "outputs": [
    {
     "data": {
      "text/html": [
       "<table class=\"simpletable\">\n",
       "<caption>OLS Regression Results</caption>\n",
       "<tr>\n",
       "  <th>Dep. Variable:</th>         <td>Profit</td>      <th>  R-squared:         </th> <td>   0.951</td>\n",
       "</tr>\n",
       "<tr>\n",
       "  <th>Model:</th>                   <td>OLS</td>       <th>  Adj. R-squared:    </th> <td>   0.946</td>\n",
       "</tr>\n",
       "<tr>\n",
       "  <th>Method:</th>             <td>Least Squares</td>  <th>  F-statistic:       </th> <td>   172.6</td>\n",
       "</tr>\n",
       "<tr>\n",
       "  <th>Date:</th>             <td>Tue, 10 Jan 2023</td> <th>  Prob (F-statistic):</th> <td>9.68e-28</td>\n",
       "</tr>\n",
       "<tr>\n",
       "  <th>Time:</th>                 <td>23:24:37</td>     <th>  Log-Likelihood:    </th> <td> -524.95</td>\n",
       "</tr>\n",
       "<tr>\n",
       "  <th>No. Observations:</th>      <td>    50</td>      <th>  AIC:               </th> <td>   1062.</td>\n",
       "</tr>\n",
       "<tr>\n",
       "  <th>Df Residuals:</th>          <td>    44</td>      <th>  BIC:               </th> <td>   1073.</td>\n",
       "</tr>\n",
       "<tr>\n",
       "  <th>Df Model:</th>              <td>     5</td>      <th>                     </th>     <td> </td>   \n",
       "</tr>\n",
       "<tr>\n",
       "  <th>Covariance Type:</th>      <td>nonrobust</td>    <th>                     </th>     <td> </td>   \n",
       "</tr>\n",
       "</table>\n",
       "<table class=\"simpletable\">\n",
       "<tr>\n",
       "          <td></td>            <th>coef</th>     <th>std err</th>      <th>t</th>      <th>P>|t|</th>  <th>[0.025</th>    <th>0.975]</th>  \n",
       "</tr>\n",
       "<tr>\n",
       "  <th>R&D Spend</th>        <td>    0.8054</td> <td>    0.046</td> <td>   17.506</td> <td> 0.000</td> <td>    0.713</td> <td>    0.898</td>\n",
       "</tr>\n",
       "<tr>\n",
       "  <th>Administration</th>   <td>   -0.0269</td> <td>    0.052</td> <td>   -0.519</td> <td> 0.606</td> <td>   -0.131</td> <td>    0.077</td>\n",
       "</tr>\n",
       "<tr>\n",
       "  <th>Marketing Spend</th>  <td>    0.0269</td> <td>    0.017</td> <td>    1.586</td> <td> 0.120</td> <td>   -0.007</td> <td>    0.061</td>\n",
       "</tr>\n",
       "<tr>\n",
       "  <th>State_California</th> <td> 5.021e+04</td> <td> 6825.548</td> <td>    7.357</td> <td> 0.000</td> <td> 3.65e+04</td> <td>  6.4e+04</td>\n",
       "</tr>\n",
       "<tr>\n",
       "  <th>State_Florida</th>    <td> 5.036e+04</td> <td> 7189.336</td> <td>    7.005</td> <td> 0.000</td> <td> 3.59e+04</td> <td> 6.49e+04</td>\n",
       "</tr>\n",
       "<tr>\n",
       "  <th>State_New York</th>   <td> 5.012e+04</td> <td> 6892.732</td> <td>    7.271</td> <td> 0.000</td> <td> 3.62e+04</td> <td>  6.4e+04</td>\n",
       "</tr>\n",
       "</table>\n",
       "<table class=\"simpletable\">\n",
       "<tr>\n",
       "  <th>Omnibus:</th>       <td>13.298</td> <th>  Durbin-Watson:     </th> <td>   1.294</td>\n",
       "</tr>\n",
       "<tr>\n",
       "  <th>Prob(Omnibus):</th> <td> 0.001</td> <th>  Jarque-Bera (JB):  </th> <td>  17.729</td>\n",
       "</tr>\n",
       "<tr>\n",
       "  <th>Skew:</th>          <td>-0.887</td> <th>  Prob(JB):          </th> <td>0.000141</td>\n",
       "</tr>\n",
       "<tr>\n",
       "  <th>Kurtosis:</th>      <td> 5.315</td> <th>  Cond. No.          </th> <td>2.45e+06</td>\n",
       "</tr>\n",
       "</table><br/><br/>Notes:<br/>[1] Standard Errors assume that the covariance matrix of the errors is correctly specified.<br/>[2] The condition number is large, 2.45e+06. This might indicate that there are<br/>strong multicollinearity or other numerical problems."
      ],
      "text/plain": [
       "<class 'statsmodels.iolib.summary.Summary'>\n",
       "\"\"\"\n",
       "                            OLS Regression Results                            \n",
       "==============================================================================\n",
       "Dep. Variable:                 Profit   R-squared:                       0.951\n",
       "Model:                            OLS   Adj. R-squared:                  0.946\n",
       "Method:                 Least Squares   F-statistic:                     172.6\n",
       "Date:                Tue, 10 Jan 2023   Prob (F-statistic):           9.68e-28\n",
       "Time:                        23:24:37   Log-Likelihood:                -524.95\n",
       "No. Observations:                  50   AIC:                             1062.\n",
       "Df Residuals:                      44   BIC:                             1073.\n",
       "Df Model:                           5                                         \n",
       "Covariance Type:            nonrobust                                         \n",
       "====================================================================================\n",
       "                       coef    std err          t      P>|t|      [0.025      0.975]\n",
       "------------------------------------------------------------------------------------\n",
       "R&D Spend            0.8054      0.046     17.506      0.000       0.713       0.898\n",
       "Administration      -0.0269      0.052     -0.519      0.606      -0.131       0.077\n",
       "Marketing Spend      0.0269      0.017      1.586      0.120      -0.007       0.061\n",
       "State_California  5.021e+04   6825.548      7.357      0.000    3.65e+04     6.4e+04\n",
       "State_Florida     5.036e+04   7189.336      7.005      0.000    3.59e+04    6.49e+04\n",
       "State_New York    5.012e+04   6892.732      7.271      0.000    3.62e+04     6.4e+04\n",
       "==============================================================================\n",
       "Omnibus:                       13.298   Durbin-Watson:                   1.294\n",
       "Prob(Omnibus):                  0.001   Jarque-Bera (JB):               17.729\n",
       "Skew:                          -0.887   Prob(JB):                     0.000141\n",
       "Kurtosis:                       5.315   Cond. No.                     2.45e+06\n",
       "==============================================================================\n",
       "\n",
       "Notes:\n",
       "[1] Standard Errors assume that the covariance matrix of the errors is correctly specified.\n",
       "[2] The condition number is large, 2.45e+06. This might indicate that there are\n",
       "strong multicollinearity or other numerical problems.\n",
       "\"\"\""
      ]
     },
     "execution_count": 71,
     "metadata": {},
     "output_type": "execute_result"
    }
   ],
   "source": [
    "model1.summary()"
   ]
  },
  {
   "cell_type": "markdown",
   "id": "ea9a602a",
   "metadata": {},
   "source": [
    "### Eventhough accuracy is Quite high, pvalues for Administration and marketing spend is not good. so check for multilcilinearity"
   ]
  },
  {
   "cell_type": "code",
   "execution_count": 72,
   "id": "0d11fa29",
   "metadata": {},
   "outputs": [],
   "source": [
    "#Calculation cooks distance\n",
    "from statsmodels.graphics.regressionplots import influence_plot\n",
    "from statsmodels.stats.outliers_influence import variance_inflation_factor"
   ]
  },
  {
   "cell_type": "code",
   "execution_count": 73,
   "id": "0205e177",
   "metadata": {},
   "outputs": [
    {
     "data": {
      "text/plain": [
       "Text(0, 0.5, 'cooks diatnce')"
      ]
     },
     "execution_count": 73,
     "metadata": {},
     "output_type": "execute_result"
    },
    {
     "data": {
      "image/png": "[encoded data removed]",
      "text/plain": [
       "<Figure size 432x288 with 1 Axes>"
      ]
     },
     "metadata": {
      "needs_background": "light"
     },
     "output_type": "display_data"
    }
   ],
   "source": [
    "model1_inf= model1.get_influence()\n",
    "(c,_)=model1_inf.cooks_distance\n",
    "# Plotting Cooks distance\n",
    "plt.stem(np.arange(len(data_1)),np.round(c,3))\n",
    "plt.xlabel(\"index\")\n",
    "plt.ylabel(\"cooks diatnce\")"
   ]
  },
  {
   "cell_type": "code",
   "execution_count": 74,
   "id": "f1007fb7",
   "metadata": {},
   "outputs": [
    {
     "data": {
      "text/plain": [
       "(49, 0.25411526588586847)"
      ]
     },
     "execution_count": 74,
     "metadata": {},
     "output_type": "execute_result"
    }
   ],
   "source": [
    "(np.argmax(c),np.max(c))"
   ]
  },
  {
   "cell_type": "code",
   "execution_count": 75,
   "id": "35cc4e96",
   "metadata": {},
   "outputs": [
    {
     "name": "stdout",
     "output_type": "stream",
     "text": [
      "0.3\n"
     ]
    }
   ],
   "source": [
    "levarage_cutoff=3*(data.shape[1])/data.shape[0]\n",
    "print(levarage_cutoff)\n"
   ]
  },
  {
   "cell_type": "code",
   "execution_count": 76,
   "id": "013a0344",
   "metadata": {},
   "outputs": [
    {
     "data": {
      "text/plain": [
       "[<matplotlib.lines.Line2D at 0x199ac60aaf0>]"
      ]
     },
     "execution_count": 76,
     "metadata": {},
     "output_type": "execute_result"
    },
    {
     "data": {
      "image/png": "[encoded data removed]",
      "text/plain": [
       "<Figure size 432x288 with 1 Axes>"
      ]
     },
     "metadata": {
      "needs_background": "light"
     },
     "output_type": "display_data"
    }
   ],
   "source": [
    "# plotting influence plot\n",
    "influence_plot(model1)\n",
    "x=[i for i in range(-4,6)]\n",
    "y=[levarage_cutoff for i in range(10)]\n",
    "plt.plot(y,x,\"r\")"
   ]
  },
  {
   "cell_type": "markdown",
   "id": "f22dfa82",
   "metadata": {},
   "source": [
    "Every point seem to fall inside leverage score.No need to drop any rows"
   ]
  },
  {
   "cell_type": "code",
   "execution_count": 85,
   "id": "ba228de5",
   "metadata": {},
   "outputs": [],
   "source": [
    "# Calculating VIF For Every Features\n",
    "vif=pd.DataFrame()\n",
    "vif[\"VIF Factor\"] = [variance_inflation_factor(x.values, i) for i in range(x.shape[1])]\n",
    "vif[\"features\"]=x.columns"
   ]
  },
  {
   "cell_type": "code",
   "execution_count": null,
   "id": "10f65f87",
   "metadata": {},
   "outputs": [],
   "source": []
  },
  {
   "cell_type": "code",
   "execution_count": 86,
   "id": "0e32744a",
   "metadata": {},
   "outputs": [
    {
     "data": {
      "text/html": [
       "<div>\n",
       "<style scoped>\n",
       "    .dataframe tbody tr th:only-of-type {\n",
       "        vertical-align: middle;\n",
       "    }\n",
       "\n",
       "    .dataframe tbody tr th {\n",
       "        vertical-align: top;\n",
       "    }\n",
       "\n",
       "    .dataframe thead th {\n",
       "        text-align: right;\n",
       "    }\n",
       "</style>\n",
       "<table border=\"1\" class=\"dataframe\">\n",
       "  <thead>\n",
       "    <tr style=\"text-align: right;\">\n",
       "      <th></th>\n",
       "      <th>VIF Factor</th>\n",
       "      <th>features</th>\n",
       "    </tr>\n",
       "  </thead>\n",
       "  <tbody>\n",
       "    <tr>\n",
       "      <th>0</th>\n",
       "      <td>2.495511</td>\n",
       "      <td>R&amp;D Spend</td>\n",
       "    </tr>\n",
       "    <tr>\n",
       "      <th>1</th>\n",
       "      <td>1.177766</td>\n",
       "      <td>Administration</td>\n",
       "    </tr>\n",
       "    <tr>\n",
       "      <th>2</th>\n",
       "      <td>2.416797</td>\n",
       "      <td>Marketing Spend</td>\n",
       "    </tr>\n",
       "    <tr>\n",
       "      <th>3</th>\n",
       "      <td>9.044052</td>\n",
       "      <td>State_California</td>\n",
       "    </tr>\n",
       "    <tr>\n",
       "      <th>4</th>\n",
       "      <td>9.443578</td>\n",
       "      <td>State_Florida</td>\n",
       "    </tr>\n",
       "    <tr>\n",
       "      <th>5</th>\n",
       "      <td>9.222969</td>\n",
       "      <td>State_New York</td>\n",
       "    </tr>\n",
       "  </tbody>\n",
       "</table>\n",
       "</div>"
      ],
      "text/plain": [
       "   VIF Factor          features\n",
       "0    2.495511         R&D Spend\n",
       "1    1.177766    Administration\n",
       "2    2.416797   Marketing Spend\n",
       "3    9.044052  State_California\n",
       "4    9.443578     State_Florida\n",
       "5    9.222969    State_New York"
      ]
     },
     "execution_count": 86,
     "metadata": {},
     "output_type": "execute_result"
    }
   ],
   "source": [
    "vif"
   ]
  },
  {
   "cell_type": "markdown",
   "id": "6353458c",
   "metadata": {},
   "source": [
    "## Subset selection\n",
    "\n"
   ]
  },
  {
   "cell_type": "code",
   "execution_count": 87,
   "id": "ff9f86b8",
   "metadata": {},
   "outputs": [],
   "source": [
    "# Without R and D\n",
    "a=data_1[['Administration','Marketing Spend','State_California','State_Florida','State_New York']]\n",
    "model2=sm.OLS(y,a).fit()\n"
   ]
  },
  {
   "cell_type": "code",
   "execution_count": 88,
   "id": "4e1869a7",
   "metadata": {},
   "outputs": [],
   "source": [
    "# without Marketing spend\n",
    "\n",
    "b=data_1[['R&D Spend','Administration','State_California','State_Florida','State_New York']]\n",
    "model3=sm.OLS(y,b).fit()\n",
    "\n"
   ]
  },
  {
   "cell_type": "code",
   "execution_count": 89,
   "id": "357d36a2",
   "metadata": {},
   "outputs": [
    {
     "data": {
      "text/plain": [
       "'model2_AIC:1163.6536705807039,model3_AIC:1062.6789358921965'"
      ]
     },
     "execution_count": 89,
     "metadata": {},
     "output_type": "execute_result"
    }
   ],
   "source": [
    "# Checking AIC of both model\n",
    "f'model2_AIC:{model2.aic},model3_AIC:{model3.aic}'"
   ]
  },
  {
   "cell_type": "markdown",
   "id": "0a98742f",
   "metadata": {},
   "source": [
    "### The model3 Where Marketing spend was not taken has less AIC value, Hence Marketing spend can be discarded"
   ]
  },
  {
   "cell_type": "code",
   "execution_count": 90,
   "id": "eaaaa6fd",
   "metadata": {},
   "outputs": [],
   "source": [
    "# Again changing X as\n",
    "x=b"
   ]
  },
  {
   "cell_type": "markdown",
   "id": "a29f2671",
   "metadata": {},
   "source": [
    "## 1. Model without any Transformation"
   ]
  },
  {
   "cell_type": "code",
   "execution_count": 91,
   "id": "97d41843",
   "metadata": {},
   "outputs": [],
   "source": [
    "model3=sm.OLS(y,x).fit()"
   ]
  },
  {
   "cell_type": "code",
   "execution_count": 92,
   "id": "ff8ebf6d",
   "metadata": {},
   "outputs": [
    {
     "data": {
      "text/html": [
       "<table class=\"simpletable\">\n",
       "<caption>OLS Regression Results</caption>\n",
       "<tr>\n",
       "  <th>Dep. Variable:</th>         <td>Profit</td>      <th>  R-squared:         </th> <td>   0.949</td>\n",
       "</tr>\n",
       "<tr>\n",
       "  <th>Model:</th>                   <td>OLS</td>       <th>  Adj. R-squared:    </th> <td>   0.944</td>\n",
       "</tr>\n",
       "<tr>\n",
       "  <th>Method:</th>             <td>Least Squares</td>  <th>  F-statistic:       </th> <td>   208.1</td>\n",
       "</tr>\n",
       "<tr>\n",
       "  <th>Date:</th>             <td>Tue, 10 Jan 2023</td> <th>  Prob (F-statistic):</th> <td>2.12e-28</td>\n",
       "</tr>\n",
       "<tr>\n",
       "  <th>Time:</th>                 <td>23:26:54</td>     <th>  Log-Likelihood:    </th> <td> -526.34</td>\n",
       "</tr>\n",
       "<tr>\n",
       "  <th>No. Observations:</th>      <td>    50</td>      <th>  AIC:               </th> <td>   1063.</td>\n",
       "</tr>\n",
       "<tr>\n",
       "  <th>Df Residuals:</th>          <td>    45</td>      <th>  BIC:               </th> <td>   1072.</td>\n",
       "</tr>\n",
       "<tr>\n",
       "  <th>Df Model:</th>              <td>     4</td>      <th>                     </th>     <td> </td>   \n",
       "</tr>\n",
       "<tr>\n",
       "  <th>Covariance Type:</th>      <td>nonrobust</td>    <th>                     </th>     <td> </td>   \n",
       "</tr>\n",
       "</table>\n",
       "<table class=\"simpletable\">\n",
       "<tr>\n",
       "          <td></td>            <th>coef</th>     <th>std err</th>      <th>t</th>      <th>P>|t|</th>  <th>[0.025</th>    <th>0.975]</th>  \n",
       "</tr>\n",
       "<tr>\n",
       "  <th>R&D Spend</th>        <td>    0.8602</td> <td>    0.031</td> <td>   27.873</td> <td> 0.000</td> <td>    0.798</td> <td>    0.922</td>\n",
       "</tr>\n",
       "<tr>\n",
       "  <th>Administration</th>   <td>   -0.0525</td> <td>    0.050</td> <td>   -1.051</td> <td> 0.299</td> <td>   -0.153</td> <td>    0.048</td>\n",
       "</tr>\n",
       "<tr>\n",
       "  <th>State_California</th> <td> 5.469e+04</td> <td> 6318.746</td> <td>    8.655</td> <td> 0.000</td> <td>  4.2e+04</td> <td> 6.74e+04</td>\n",
       "</tr>\n",
       "<tr>\n",
       "  <th>State_Florida</th>    <td> 5.573e+04</td> <td> 6449.138</td> <td>    8.642</td> <td> 0.000</td> <td> 4.27e+04</td> <td> 6.87e+04</td>\n",
       "</tr>\n",
       "<tr>\n",
       "  <th>State_New York</th>   <td>  5.46e+04</td> <td> 6392.954</td> <td>    8.540</td> <td> 0.000</td> <td> 4.17e+04</td> <td> 6.75e+04</td>\n",
       "</tr>\n",
       "</table>\n",
       "<table class=\"simpletable\">\n",
       "<tr>\n",
       "  <th>Omnibus:</th>       <td>12.901</td> <th>  Durbin-Watson:     </th> <td>   1.208</td>\n",
       "</tr>\n",
       "<tr>\n",
       "  <th>Prob(Omnibus):</th> <td> 0.002</td> <th>  Jarque-Bera (JB):  </th> <td>  16.205</td>\n",
       "</tr>\n",
       "<tr>\n",
       "  <th>Skew:</th>          <td>-0.898</td> <th>  Prob(JB):          </th> <td>0.000303</td>\n",
       "</tr>\n",
       "<tr>\n",
       "  <th>Kurtosis:</th>      <td> 5.134</td> <th>  Cond. No.          </th> <td>1.15e+06</td>\n",
       "</tr>\n",
       "</table><br/><br/>Notes:<br/>[1] Standard Errors assume that the covariance matrix of the errors is correctly specified.<br/>[2] The condition number is large, 1.15e+06. This might indicate that there are<br/>strong multicollinearity or other numerical problems."
      ],
      "text/plain": [
       "<class 'statsmodels.iolib.summary.Summary'>\n",
       "\"\"\"\n",
       "                            OLS Regression Results                            \n",
       "==============================================================================\n",
       "Dep. Variable:                 Profit   R-squared:                       0.949\n",
       "Model:                            OLS   Adj. R-squared:                  0.944\n",
       "Method:                 Least Squares   F-statistic:                     208.1\n",
       "Date:                Tue, 10 Jan 2023   Prob (F-statistic):           2.12e-28\n",
       "Time:                        23:26:54   Log-Likelihood:                -526.34\n",
       "No. Observations:                  50   AIC:                             1063.\n",
       "Df Residuals:                      45   BIC:                             1072.\n",
       "Df Model:                           4                                         \n",
       "Covariance Type:            nonrobust                                         \n",
       "====================================================================================\n",
       "                       coef    std err          t      P>|t|      [0.025      0.975]\n",
       "------------------------------------------------------------------------------------\n",
       "R&D Spend            0.8602      0.031     27.873      0.000       0.798       0.922\n",
       "Administration      -0.0525      0.050     -1.051      0.299      -0.153       0.048\n",
       "State_California  5.469e+04   6318.746      8.655      0.000     4.2e+04    6.74e+04\n",
       "State_Florida     5.573e+04   6449.138      8.642      0.000    4.27e+04    6.87e+04\n",
       "State_New York     5.46e+04   6392.954      8.540      0.000    4.17e+04    6.75e+04\n",
       "==============================================================================\n",
       "Omnibus:                       12.901   Durbin-Watson:                   1.208\n",
       "Prob(Omnibus):                  0.002   Jarque-Bera (JB):               16.205\n",
       "Skew:                          -0.898   Prob(JB):                     0.000303\n",
       "Kurtosis:                       5.134   Cond. No.                     1.15e+06\n",
       "==============================================================================\n",
       "\n",
       "Notes:\n",
       "[1] Standard Errors assume that the covariance matrix of the errors is correctly specified.\n",
       "[2] The condition number is large, 1.15e+06. This might indicate that there are\n",
       "strong multicollinearity or other numerical problems.\n",
       "\"\"\""
      ]
     },
     "execution_count": 92,
     "metadata": {},
     "output_type": "execute_result"
    }
   ],
   "source": [
    "model3.summary()"
   ]
  },
  {
   "cell_type": "markdown",
   "id": "61b29a27",
   "metadata": {},
   "source": [
    "### Has 94.4% accuracy"
   ]
  },
  {
   "cell_type": "markdown",
   "id": "7c2f8859",
   "metadata": {},
   "source": [
    "## 2. With LOG transformation on y"
   ]
  },
  {
   "cell_type": "code",
   "execution_count": 93,
   "id": "8b42f5a7",
   "metadata": {},
   "outputs": [],
   "source": [
    "# Since in X \"0\" is there we cannot apply log transformation to that"
   ]
  },
  {
   "cell_type": "code",
   "execution_count": 94,
   "id": "dabc06fe",
   "metadata": {},
   "outputs": [
    {
     "data": {
      "text/html": [
       "<table class=\"simpletable\">\n",
       "<caption>OLS Regression Results</caption>\n",
       "<tr>\n",
       "  <th>Dep. Variable:</th>         <td>Profit</td>      <th>  R-squared:         </th> <td>   0.773</td>\n",
       "</tr>\n",
       "<tr>\n",
       "  <th>Model:</th>                   <td>OLS</td>       <th>  Adj. R-squared:    </th> <td>   0.753</td>\n",
       "</tr>\n",
       "<tr>\n",
       "  <th>Method:</th>             <td>Least Squares</td>  <th>  F-statistic:       </th> <td>   38.38</td>\n",
       "</tr>\n",
       "<tr>\n",
       "  <th>Date:</th>             <td>Tue, 10 Jan 2023</td> <th>  Prob (F-statistic):</th> <td>5.78e-14</td>\n",
       "</tr>\n",
       "<tr>\n",
       "  <th>Time:</th>                 <td>23:26:55</td>     <th>  Log-Likelihood:    </th> <td>  5.7653</td>\n",
       "</tr>\n",
       "<tr>\n",
       "  <th>No. Observations:</th>      <td>    50</td>      <th>  AIC:               </th> <td>  -1.531</td>\n",
       "</tr>\n",
       "<tr>\n",
       "  <th>Df Residuals:</th>          <td>    45</td>      <th>  BIC:               </th> <td>   8.030</td>\n",
       "</tr>\n",
       "<tr>\n",
       "  <th>Df Model:</th>              <td>     4</td>      <th>                     </th>     <td> </td>   \n",
       "</tr>\n",
       "<tr>\n",
       "  <th>Covariance Type:</th>      <td>nonrobust</td>    <th>                     </th>     <td> </td>   \n",
       "</tr>\n",
       "</table>\n",
       "<table class=\"simpletable\">\n",
       "<tr>\n",
       "          <td></td>            <th>coef</th>     <th>std err</th>      <th>t</th>      <th>P>|t|</th>  <th>[0.025</th>    <th>0.975]</th>  \n",
       "</tr>\n",
       "<tr>\n",
       "  <th>R&D Spend</th>        <td>  8.64e-06</td> <td> 7.37e-07</td> <td>   11.718</td> <td> 0.000</td> <td> 7.15e-06</td> <td> 1.01e-05</td>\n",
       "</tr>\n",
       "<tr>\n",
       "  <th>Administration</th>   <td> 3.403e-08</td> <td> 1.19e-06</td> <td>    0.028</td> <td> 0.977</td> <td>-2.37e-06</td> <td> 2.44e-06</td>\n",
       "</tr>\n",
       "<tr>\n",
       "  <th>State_California</th> <td>   10.8650</td> <td>    0.151</td> <td>   71.978</td> <td> 0.000</td> <td>   10.561</td> <td>   11.169</td>\n",
       "</tr>\n",
       "<tr>\n",
       "  <th>State_Florida</th>    <td>   10.9370</td> <td>    0.154</td> <td>   70.990</td> <td> 0.000</td> <td>   10.627</td> <td>   11.247</td>\n",
       "</tr>\n",
       "<tr>\n",
       "  <th>State_New York</th>   <td>   10.9080</td> <td>    0.153</td> <td>   71.424</td> <td> 0.000</td> <td>   10.600</td> <td>   11.216</td>\n",
       "</tr>\n",
       "</table>\n",
       "<table class=\"simpletable\">\n",
       "<tr>\n",
       "  <th>Omnibus:</th>       <td>69.400</td> <th>  Durbin-Watson:     </th> <td>   0.528</td> \n",
       "</tr>\n",
       "<tr>\n",
       "  <th>Prob(Omnibus):</th> <td> 0.000</td> <th>  Jarque-Bera (JB):  </th> <td> 722.777</td> \n",
       "</tr>\n",
       "<tr>\n",
       "  <th>Skew:</th>          <td>-3.590</td> <th>  Prob(JB):          </th> <td>1.12e-157</td>\n",
       "</tr>\n",
       "<tr>\n",
       "  <th>Kurtosis:</th>      <td>20.187</td> <th>  Cond. No.          </th> <td>1.15e+06</td> \n",
       "</tr>\n",
       "</table><br/><br/>Notes:<br/>[1] Standard Errors assume that the covariance matrix of the errors is correctly specified.<br/>[2] The condition number is large, 1.15e+06. This might indicate that there are<br/>strong multicollinearity or other numerical problems."
      ],
      "text/plain": [
       "<class 'statsmodels.iolib.summary.Summary'>\n",
       "\"\"\"\n",
       "                            OLS Regression Results                            \n",
       "==============================================================================\n",
       "Dep. Variable:                 Profit   R-squared:                       0.773\n",
       "Model:                            OLS   Adj. R-squared:                  0.753\n",
       "Method:                 Least Squares   F-statistic:                     38.38\n",
       "Date:                Tue, 10 Jan 2023   Prob (F-statistic):           5.78e-14\n",
       "Time:                        23:26:55   Log-Likelihood:                 5.7653\n",
       "No. Observations:                  50   AIC:                            -1.531\n",
       "Df Residuals:                      45   BIC:                             8.030\n",
       "Df Model:                           4                                         \n",
       "Covariance Type:            nonrobust                                         \n",
       "====================================================================================\n",
       "                       coef    std err          t      P>|t|      [0.025      0.975]\n",
       "------------------------------------------------------------------------------------\n",
       "R&D Spend          8.64e-06   7.37e-07     11.718      0.000    7.15e-06    1.01e-05\n",
       "Administration    3.403e-08   1.19e-06      0.028      0.977   -2.37e-06    2.44e-06\n",
       "State_California    10.8650      0.151     71.978      0.000      10.561      11.169\n",
       "State_Florida       10.9370      0.154     70.990      0.000      10.627      11.247\n",
       "State_New York      10.9080      0.153     71.424      0.000      10.600      11.216\n",
       "==============================================================================\n",
       "Omnibus:                       69.400   Durbin-Watson:                   0.528\n",
       "Prob(Omnibus):                  0.000   Jarque-Bera (JB):              722.777\n",
       "Skew:                          -3.590   Prob(JB):                    1.12e-157\n",
       "Kurtosis:                      20.187   Cond. No.                     1.15e+06\n",
       "==============================================================================\n",
       "\n",
       "Notes:\n",
       "[1] Standard Errors assume that the covariance matrix of the errors is correctly specified.\n",
       "[2] The condition number is large, 1.15e+06. This might indicate that there are\n",
       "strong multicollinearity or other numerical problems.\n",
       "\"\"\""
      ]
     },
     "execution_count": 94,
     "metadata": {},
     "output_type": "execute_result"
    }
   ],
   "source": [
    "model4=sm.OLS(np.log(y),x).fit()\n",
    "model4.summary()"
   ]
  },
  {
   "cell_type": "markdown",
   "id": "b1c8b4a4",
   "metadata": {},
   "source": [
    "### Has acuuracy 75.3%"
   ]
  },
  {
   "cell_type": "markdown",
   "id": "a3bdbe8d",
   "metadata": {},
   "source": [
    "## 3. With square root transformation to both x and y"
   ]
  },
  {
   "cell_type": "code",
   "execution_count": 95,
   "id": "68282074",
   "metadata": {},
   "outputs": [
    {
     "data": {
      "text/html": [
       "<table class=\"simpletable\">\n",
       "<caption>OLS Regression Results</caption>\n",
       "<tr>\n",
       "  <th>Dep. Variable:</th>         <td>Profit</td>      <th>  R-squared:         </th> <td>   0.932</td>\n",
       "</tr>\n",
       "<tr>\n",
       "  <th>Model:</th>                   <td>OLS</td>       <th>  Adj. R-squared:    </th> <td>   0.926</td>\n",
       "</tr>\n",
       "<tr>\n",
       "  <th>Method:</th>             <td>Least Squares</td>  <th>  F-statistic:       </th> <td>   154.4</td>\n",
       "</tr>\n",
       "<tr>\n",
       "  <th>Date:</th>             <td>Tue, 10 Jan 2023</td> <th>  Prob (F-statistic):</th> <td>1.16e-25</td>\n",
       "</tr>\n",
       "<tr>\n",
       "  <th>Time:</th>                 <td>23:26:56</td>     <th>  Log-Likelihood:    </th> <td> -211.63</td>\n",
       "</tr>\n",
       "<tr>\n",
       "  <th>No. Observations:</th>      <td>    50</td>      <th>  AIC:               </th> <td>   433.3</td>\n",
       "</tr>\n",
       "<tr>\n",
       "  <th>Df Residuals:</th>          <td>    45</td>      <th>  BIC:               </th> <td>   442.8</td>\n",
       "</tr>\n",
       "<tr>\n",
       "  <th>Df Model:</th>              <td>     4</td>      <th>                     </th>     <td> </td>   \n",
       "</tr>\n",
       "<tr>\n",
       "  <th>Covariance Type:</th>      <td>nonrobust</td>    <th>                     </th>     <td> </td>   \n",
       "</tr>\n",
       "</table>\n",
       "<table class=\"simpletable\">\n",
       "<tr>\n",
       "          <td></td>            <th>coef</th>     <th>std err</th>      <th>t</th>      <th>P>|t|</th>  <th>[0.025</th>    <th>0.975]</th>  \n",
       "</tr>\n",
       "<tr>\n",
       "  <th>R&D Spend</th>        <td>    0.5916</td> <td>    0.025</td> <td>   23.747</td> <td> 0.000</td> <td>    0.541</td> <td>    0.642</td>\n",
       "</tr>\n",
       "<tr>\n",
       "  <th>Administration</th>   <td>   -0.0409</td> <td>    0.061</td> <td>   -0.670</td> <td> 0.507</td> <td>   -0.164</td> <td>    0.082</td>\n",
       "</tr>\n",
       "<tr>\n",
       "  <th>State_California</th> <td>  192.3816</td> <td>   20.786</td> <td>    9.255</td> <td> 0.000</td> <td>  150.516</td> <td>  234.247</td>\n",
       "</tr>\n",
       "<tr>\n",
       "  <th>State_Florida</th>    <td>  195.0989</td> <td>   20.985</td> <td>    9.297</td> <td> 0.000</td> <td>  152.834</td> <td>  237.364</td>\n",
       "</tr>\n",
       "<tr>\n",
       "  <th>State_New York</th>   <td>  196.0499</td> <td>   20.829</td> <td>    9.413</td> <td> 0.000</td> <td>  154.099</td> <td>  238.001</td>\n",
       "</tr>\n",
       "</table>\n",
       "<table class=\"simpletable\">\n",
       "<tr>\n",
       "  <th>Omnibus:</th>       <td> 6.585</td> <th>  Durbin-Watson:     </th> <td>   1.187</td>\n",
       "</tr>\n",
       "<tr>\n",
       "  <th>Prob(Omnibus):</th> <td> 0.037</td> <th>  Jarque-Bera (JB):  </th> <td>   9.587</td>\n",
       "</tr>\n",
       "<tr>\n",
       "  <th>Skew:</th>          <td> 0.230</td> <th>  Prob(JB):          </th> <td> 0.00828</td>\n",
       "</tr>\n",
       "<tr>\n",
       "  <th>Kurtosis:</th>      <td> 5.095</td> <th>  Cond. No.          </th> <td>6.22e+03</td>\n",
       "</tr>\n",
       "</table><br/><br/>Notes:<br/>[1] Standard Errors assume that the covariance matrix of the errors is correctly specified.<br/>[2] The condition number is large, 6.22e+03. This might indicate that there are<br/>strong multicollinearity or other numerical problems."
      ],
      "text/plain": [
       "<class 'statsmodels.iolib.summary.Summary'>\n",
       "\"\"\"\n",
       "                            OLS Regression Results                            \n",
       "==============================================================================\n",
       "Dep. Variable:                 Profit   R-squared:                       0.932\n",
       "Model:                            OLS   Adj. R-squared:                  0.926\n",
       "Method:                 Least Squares   F-statistic:                     154.4\n",
       "Date:                Tue, 10 Jan 2023   Prob (F-statistic):           1.16e-25\n",
       "Time:                        23:26:56   Log-Likelihood:                -211.63\n",
       "No. Observations:                  50   AIC:                             433.3\n",
       "Df Residuals:                      45   BIC:                             442.8\n",
       "Df Model:                           4                                         \n",
       "Covariance Type:            nonrobust                                         \n",
       "====================================================================================\n",
       "                       coef    std err          t      P>|t|      [0.025      0.975]\n",
       "------------------------------------------------------------------------------------\n",
       "R&D Spend            0.5916      0.025     23.747      0.000       0.541       0.642\n",
       "Administration      -0.0409      0.061     -0.670      0.507      -0.164       0.082\n",
       "State_California   192.3816     20.786      9.255      0.000     150.516     234.247\n",
       "State_Florida      195.0989     20.985      9.297      0.000     152.834     237.364\n",
       "State_New York     196.0499     20.829      9.413      0.000     154.099     238.001\n",
       "==============================================================================\n",
       "Omnibus:                        6.585   Durbin-Watson:                   1.187\n",
       "Prob(Omnibus):                  0.037   Jarque-Bera (JB):                9.587\n",
       "Skew:                           0.230   Prob(JB):                      0.00828\n",
       "Kurtosis:                       5.095   Cond. No.                     6.22e+03\n",
       "==============================================================================\n",
       "\n",
       "Notes:\n",
       "[1] Standard Errors assume that the covariance matrix of the errors is correctly specified.\n",
       "[2] The condition number is large, 6.22e+03. This might indicate that there are\n",
       "strong multicollinearity or other numerical problems.\n",
       "\"\"\""
      ]
     },
     "execution_count": 95,
     "metadata": {},
     "output_type": "execute_result"
    }
   ],
   "source": [
    "model5=sm.OLS(np.sqrt(y),np.sqrt(x)).fit()\n",
    "model5.summary()"
   ]
  },
  {
   "cell_type": "code",
   "execution_count": 96,
   "id": "7107885e",
   "metadata": {},
   "outputs": [
    {
     "data": {
      "image/png": "[encoded data removed]",
      "text/plain": [
       "<Figure size 432x288 with 1 Axes>"
      ]
     },
     "metadata": {
      "needs_background": "light"
     },
     "output_type": "display_data"
    }
   ],
   "source": [
    "plt.subplots(1,1)\n",
    "plt.suptitle(\"X\")\n",
    "sn.distplot(x)\n",
    "sn.distplot(np.sqrt(x))\n",
    "labels=(\"Original\",\"Square root Transformed\")\n",
    "plt.legend(labels)\n",
    "plt.show()\n",
    "\n"
   ]
  },
  {
   "cell_type": "markdown",
   "id": "db520013",
   "metadata": {},
   "source": [
    "### Has Accuracy Around 92.6%"
   ]
  },
  {
   "cell_type": "markdown",
   "id": "10c94654",
   "metadata": {},
   "source": [
    "## 4. With Boxcox transformation to y\n"
   ]
  },
  {
   "cell_type": "code",
   "execution_count": 97,
   "id": "bc7a79cf",
   "metadata": {},
   "outputs": [
    {
     "data": {
      "text/html": [
       "<table class=\"simpletable\">\n",
       "<caption>OLS Regression Results</caption>\n",
       "<tr>\n",
       "  <th>Dep. Variable:</th>            <td>y</td>        <th>  R-squared:         </th> <td>   0.946</td>\n",
       "</tr>\n",
       "<tr>\n",
       "  <th>Model:</th>                   <td>OLS</td>       <th>  Adj. R-squared:    </th> <td>   0.941</td>\n",
       "</tr>\n",
       "<tr>\n",
       "  <th>Method:</th>             <td>Least Squares</td>  <th>  F-statistic:       </th> <td>   197.5</td>\n",
       "</tr>\n",
       "<tr>\n",
       "  <th>Date:</th>             <td>Tue, 10 Jan 2023</td> <th>  Prob (F-statistic):</th> <td>6.41e-28</td>\n",
       "</tr>\n",
       "<tr>\n",
       "  <th>Time:</th>                 <td>23:26:57</td>     <th>  Log-Likelihood:    </th> <td> -497.83</td>\n",
       "</tr>\n",
       "<tr>\n",
       "  <th>No. Observations:</th>      <td>    50</td>      <th>  AIC:               </th> <td>   1006.</td>\n",
       "</tr>\n",
       "<tr>\n",
       "  <th>Df Residuals:</th>          <td>    45</td>      <th>  BIC:               </th> <td>   1015.</td>\n",
       "</tr>\n",
       "<tr>\n",
       "  <th>Df Model:</th>              <td>     4</td>      <th>                     </th>     <td> </td>   \n",
       "</tr>\n",
       "<tr>\n",
       "  <th>Covariance Type:</th>      <td>nonrobust</td>    <th>                     </th>     <td> </td>   \n",
       "</tr>\n",
       "</table>\n",
       "<table class=\"simpletable\">\n",
       "<tr>\n",
       "          <td></td>            <th>coef</th>     <th>std err</th>      <th>t</th>      <th>P>|t|</th>  <th>[0.025</th>    <th>0.975]</th>  \n",
       "</tr>\n",
       "<tr>\n",
       "  <th>R&D Spend</th>        <td>    0.4735</td> <td>    0.017</td> <td>   27.135</td> <td> 0.000</td> <td>    0.438</td> <td>    0.509</td>\n",
       "</tr>\n",
       "<tr>\n",
       "  <th>Administration</th>   <td>   -0.0274</td> <td>    0.028</td> <td>   -0.967</td> <td> 0.338</td> <td>   -0.084</td> <td>    0.030</td>\n",
       "</tr>\n",
       "<tr>\n",
       "  <th>State_California</th> <td> 3.286e+04</td> <td> 3572.741</td> <td>    9.199</td> <td> 0.000</td> <td> 2.57e+04</td> <td> 4.01e+04</td>\n",
       "</tr>\n",
       "<tr>\n",
       "  <th>State_Florida</th>    <td> 3.356e+04</td> <td> 3646.467</td> <td>    9.204</td> <td> 0.000</td> <td> 2.62e+04</td> <td> 4.09e+04</td>\n",
       "</tr>\n",
       "<tr>\n",
       "  <th>State_New York</th>   <td> 3.289e+04</td> <td> 3614.700</td> <td>    9.099</td> <td> 0.000</td> <td> 2.56e+04</td> <td> 4.02e+04</td>\n",
       "</tr>\n",
       "</table>\n",
       "<table class=\"simpletable\">\n",
       "<tr>\n",
       "  <th>Omnibus:</th>       <td>17.343</td> <th>  Durbin-Watson:     </th> <td>   1.158</td>\n",
       "</tr>\n",
       "<tr>\n",
       "  <th>Prob(Omnibus):</th> <td> 0.000</td> <th>  Jarque-Bera (JB):  </th> <td>  26.994</td>\n",
       "</tr>\n",
       "<tr>\n",
       "  <th>Skew:</th>          <td>-1.081</td> <th>  Prob(JB):          </th> <td>1.37e-06</td>\n",
       "</tr>\n",
       "<tr>\n",
       "  <th>Kurtosis:</th>      <td> 5.878</td> <th>  Cond. No.          </th> <td>1.15e+06</td>\n",
       "</tr>\n",
       "</table><br/><br/>Notes:<br/>[1] Standard Errors assume that the covariance matrix of the errors is correctly specified.<br/>[2] The condition number is large, 1.15e+06. This might indicate that there are<br/>strong multicollinearity or other numerical problems."
      ],
      "text/plain": [
       "<class 'statsmodels.iolib.summary.Summary'>\n",
       "\"\"\"\n",
       "                            OLS Regression Results                            \n",
       "==============================================================================\n",
       "Dep. Variable:                      y   R-squared:                       0.946\n",
       "Model:                            OLS   Adj. R-squared:                  0.941\n",
       "Method:                 Least Squares   F-statistic:                     197.5\n",
       "Date:                Tue, 10 Jan 2023   Prob (F-statistic):           6.41e-28\n",
       "Time:                        23:26:57   Log-Likelihood:                -497.83\n",
       "No. Observations:                  50   AIC:                             1006.\n",
       "Df Residuals:                      45   BIC:                             1015.\n",
       "Df Model:                           4                                         \n",
       "Covariance Type:            nonrobust                                         \n",
       "====================================================================================\n",
       "                       coef    std err          t      P>|t|      [0.025      0.975]\n",
       "------------------------------------------------------------------------------------\n",
       "R&D Spend            0.4735      0.017     27.135      0.000       0.438       0.509\n",
       "Administration      -0.0274      0.028     -0.967      0.338      -0.084       0.030\n",
       "State_California  3.286e+04   3572.741      9.199      0.000    2.57e+04    4.01e+04\n",
       "State_Florida     3.356e+04   3646.467      9.204      0.000    2.62e+04    4.09e+04\n",
       "State_New York    3.289e+04   3614.700      9.099      0.000    2.56e+04    4.02e+04\n",
       "==============================================================================\n",
       "Omnibus:                       17.343   Durbin-Watson:                   1.158\n",
       "Prob(Omnibus):                  0.000   Jarque-Bera (JB):               26.994\n",
       "Skew:                          -1.081   Prob(JB):                     1.37e-06\n",
       "Kurtosis:                       5.878   Cond. No.                     1.15e+06\n",
       "==============================================================================\n",
       "\n",
       "Notes:\n",
       "[1] Standard Errors assume that the covariance matrix of the errors is correctly specified.\n",
       "[2] The condition number is large, 1.15e+06. This might indicate that there are\n",
       "strong multicollinearity or other numerical problems.\n",
       "\"\"\""
      ]
     },
     "execution_count": 97,
     "metadata": {},
     "output_type": "execute_result"
    }
   ],
   "source": [
    "from scipy import stats\n",
    "bc_y=stats.boxcox(y)\n",
    "bc_y=list(bc_y)\n",
    "bc_y=bc_y[0]\n",
    "model6=sm.OLS(bc_y,x).fit()\n",
    "model6.summary()"
   ]
  },
  {
   "cell_type": "markdown",
   "id": "8247c6bf",
   "metadata": {},
   "source": [
    "### Has Accuracy 94.1%"
   ]
  },
  {
   "cell_type": "markdown",
   "id": "00b90582",
   "metadata": {},
   "source": [
    "## 5. With Cuberoot Transformation both x and y"
   ]
  },
  {
   "cell_type": "code",
   "execution_count": 98,
   "id": "fd1b4bc6",
   "metadata": {},
   "outputs": [
    {
     "data": {
      "text/html": [
       "<table class=\"simpletable\">\n",
       "<caption>OLS Regression Results</caption>\n",
       "<tr>\n",
       "  <th>Dep. Variable:</th>         <td>Profit</td>      <th>  R-squared:         </th> <td>   0.911</td>\n",
       "</tr>\n",
       "<tr>\n",
       "  <th>Model:</th>                   <td>OLS</td>       <th>  Adj. R-squared:    </th> <td>   0.903</td>\n",
       "</tr>\n",
       "<tr>\n",
       "  <th>Method:</th>             <td>Least Squares</td>  <th>  F-statistic:       </th> <td>   114.5</td>\n",
       "</tr>\n",
       "<tr>\n",
       "  <th>Date:</th>             <td>Tue, 10 Jan 2023</td> <th>  Prob (F-statistic):</th> <td>5.56e-23</td>\n",
       "</tr>\n",
       "<tr>\n",
       "  <th>Time:</th>                 <td>23:26:58</td>     <th>  Log-Likelihood:    </th> <td> -103.54</td>\n",
       "</tr>\n",
       "<tr>\n",
       "  <th>No. Observations:</th>      <td>    50</td>      <th>  AIC:               </th> <td>   217.1</td>\n",
       "</tr>\n",
       "<tr>\n",
       "  <th>Df Residuals:</th>          <td>    45</td>      <th>  BIC:               </th> <td>   226.6</td>\n",
       "</tr>\n",
       "<tr>\n",
       "  <th>Df Model:</th>              <td>     4</td>      <th>                     </th>     <td> </td>   \n",
       "</tr>\n",
       "<tr>\n",
       "  <th>Covariance Type:</th>      <td>nonrobust</td>    <th>                     </th>     <td> </td>   \n",
       "</tr>\n",
       "</table>\n",
       "<table class=\"simpletable\">\n",
       "<tr>\n",
       "          <td></td>            <th>coef</th>     <th>std err</th>      <th>t</th>      <th>P>|t|</th>  <th>[0.025</th>    <th>0.975]</th>  \n",
       "</tr>\n",
       "<tr>\n",
       "  <th>R&D Spend</th>        <td>    0.4615</td> <td>    0.023</td> <td>   20.367</td> <td> 0.000</td> <td>    0.416</td> <td>    0.507</td>\n",
       "</tr>\n",
       "<tr>\n",
       "  <th>Administration</th>   <td>   -0.0021</td> <td>    0.072</td> <td>   -0.030</td> <td> 0.977</td> <td>   -0.147</td> <td>    0.143</td>\n",
       "</tr>\n",
       "<tr>\n",
       "  <th>State_California</th> <td>   29.5460</td> <td>    3.467</td> <td>    8.521</td> <td> 0.000</td> <td>   22.562</td> <td>   36.530</td>\n",
       "</tr>\n",
       "<tr>\n",
       "  <th>State_Florida</th>    <td>   29.7912</td> <td>    3.488</td> <td>    8.541</td> <td> 0.000</td> <td>   22.766</td> <td>   36.816</td>\n",
       "</tr>\n",
       "<tr>\n",
       "  <th>State_New York</th>   <td>   29.9392</td> <td>    3.469</td> <td>    8.632</td> <td> 0.000</td> <td>   22.953</td> <td>   36.925</td>\n",
       "</tr>\n",
       "</table>\n",
       "<table class=\"simpletable\">\n",
       "<tr>\n",
       "  <th>Omnibus:</th>       <td> 9.730</td> <th>  Durbin-Watson:     </th> <td>   1.062</td>\n",
       "</tr>\n",
       "<tr>\n",
       "  <th>Prob(Omnibus):</th> <td> 0.008</td> <th>  Jarque-Bera (JB):  </th> <td>   9.274</td>\n",
       "</tr>\n",
       "<tr>\n",
       "  <th>Skew:</th>          <td> 0.877</td> <th>  Prob(JB):          </th> <td> 0.00969</td>\n",
       "</tr>\n",
       "<tr>\n",
       "  <th>Kurtosis:</th>      <td> 4.172</td> <th>  Cond. No.          </th> <td>1.32e+03</td>\n",
       "</tr>\n",
       "</table><br/><br/>Notes:<br/>[1] Standard Errors assume that the covariance matrix of the errors is correctly specified.<br/>[2] The condition number is large, 1.32e+03. This might indicate that there are<br/>strong multicollinearity or other numerical problems."
      ],
      "text/plain": [
       "<class 'statsmodels.iolib.summary.Summary'>\n",
       "\"\"\"\n",
       "                            OLS Regression Results                            \n",
       "==============================================================================\n",
       "Dep. Variable:                 Profit   R-squared:                       0.911\n",
       "Model:                            OLS   Adj. R-squared:                  0.903\n",
       "Method:                 Least Squares   F-statistic:                     114.5\n",
       "Date:                Tue, 10 Jan 2023   Prob (F-statistic):           5.56e-23\n",
       "Time:                        23:26:58   Log-Likelihood:                -103.54\n",
       "No. Observations:                  50   AIC:                             217.1\n",
       "Df Residuals:                      45   BIC:                             226.6\n",
       "Df Model:                           4                                         \n",
       "Covariance Type:            nonrobust                                         \n",
       "====================================================================================\n",
       "                       coef    std err          t      P>|t|      [0.025      0.975]\n",
       "------------------------------------------------------------------------------------\n",
       "R&D Spend            0.4615      0.023     20.367      0.000       0.416       0.507\n",
       "Administration      -0.0021      0.072     -0.030      0.977      -0.147       0.143\n",
       "State_California    29.5460      3.467      8.521      0.000      22.562      36.530\n",
       "State_Florida       29.7912      3.488      8.541      0.000      22.766      36.816\n",
       "State_New York      29.9392      3.469      8.632      0.000      22.953      36.925\n",
       "==============================================================================\n",
       "Omnibus:                        9.730   Durbin-Watson:                   1.062\n",
       "Prob(Omnibus):                  0.008   Jarque-Bera (JB):                9.274\n",
       "Skew:                           0.877   Prob(JB):                      0.00969\n",
       "Kurtosis:                       4.172   Cond. No.                     1.32e+03\n",
       "==============================================================================\n",
       "\n",
       "Notes:\n",
       "[1] Standard Errors assume that the covariance matrix of the errors is correctly specified.\n",
       "[2] The condition number is large, 1.32e+03. This might indicate that there are\n",
       "strong multicollinearity or other numerical problems.\n",
       "\"\"\""
      ]
     },
     "execution_count": 98,
     "metadata": {},
     "output_type": "execute_result"
    }
   ],
   "source": [
    "model7=sm.OLS(np.cbrt(y),np.cbrt(x)).fit()\n",
    "model7.summary()"
   ]
  },
  {
   "cell_type": "markdown",
   "id": "c4e681dc",
   "metadata": {},
   "source": [
    "### Has Accuray around 90.3%"
   ]
  },
  {
   "cell_type": "markdown",
   "id": "196a0bc2",
   "metadata": {},
   "source": [
    "## 6. With squareroot and Cuberoot Transformations"
   ]
  },
  {
   "cell_type": "code",
   "execution_count": 99,
   "id": "7503c91c",
   "metadata": {},
   "outputs": [
    {
     "data": {
      "text/html": [
       "<table class=\"simpletable\">\n",
       "<caption>OLS Regression Results</caption>\n",
       "<tr>\n",
       "  <th>Dep. Variable:</th>         <td>Profit</td>      <th>  R-squared:         </th> <td>   0.926</td>\n",
       "</tr>\n",
       "<tr>\n",
       "  <th>Model:</th>                   <td>OLS</td>       <th>  Adj. R-squared:    </th> <td>   0.920</td>\n",
       "</tr>\n",
       "<tr>\n",
       "  <th>Method:</th>             <td>Least Squares</td>  <th>  F-statistic:       </th> <td>   141.7</td>\n",
       "</tr>\n",
       "<tr>\n",
       "  <th>Date:</th>             <td>Tue, 10 Jan 2023</td> <th>  Prob (F-statistic):</th> <td>6.92e-25</td>\n",
       "</tr>\n",
       "<tr>\n",
       "  <th>Time:</th>                 <td>23:26:59</td>     <th>  Log-Likelihood:    </th> <td> -98.651</td>\n",
       "</tr>\n",
       "<tr>\n",
       "  <th>No. Observations:</th>      <td>    50</td>      <th>  AIC:               </th> <td>   207.3</td>\n",
       "</tr>\n",
       "<tr>\n",
       "  <th>Df Residuals:</th>          <td>    45</td>      <th>  BIC:               </th> <td>   216.9</td>\n",
       "</tr>\n",
       "<tr>\n",
       "  <th>Df Model:</th>              <td>     4</td>      <th>                     </th>     <td> </td>   \n",
       "</tr>\n",
       "<tr>\n",
       "  <th>Covariance Type:</th>      <td>nonrobust</td>    <th>                     </th>     <td> </td>   \n",
       "</tr>\n",
       "</table>\n",
       "<table class=\"simpletable\">\n",
       "<tr>\n",
       "          <td></td>            <th>coef</th>     <th>std err</th>      <th>t</th>      <th>P>|t|</th>  <th>[0.025</th>    <th>0.975]</th>  \n",
       "</tr>\n",
       "<tr>\n",
       "  <th>R&D Spend</th>        <td>    0.0591</td> <td>    0.003</td> <td>   22.704</td> <td> 0.000</td> <td>    0.054</td> <td>    0.064</td>\n",
       "</tr>\n",
       "<tr>\n",
       "  <th>Administration</th>   <td>   -0.0038</td> <td>    0.006</td> <td>   -0.589</td> <td> 0.559</td> <td>   -0.017</td> <td>    0.009</td>\n",
       "</tr>\n",
       "<tr>\n",
       "  <th>State_California</th> <td>   33.6201</td> <td>    2.170</td> <td>   15.493</td> <td> 0.000</td> <td>   29.250</td> <td>   37.991</td>\n",
       "</tr>\n",
       "<tr>\n",
       "  <th>State_Florida</th>    <td>   34.0067</td> <td>    2.191</td> <td>   15.523</td> <td> 0.000</td> <td>   29.594</td> <td>   38.419</td>\n",
       "</tr>\n",
       "<tr>\n",
       "  <th>State_New York</th>   <td>   34.0728</td> <td>    2.174</td> <td>   15.670</td> <td> 0.000</td> <td>   29.693</td> <td>   38.452</td>\n",
       "</tr>\n",
       "</table>\n",
       "<table class=\"simpletable\">\n",
       "<tr>\n",
       "  <th>Omnibus:</th>       <td>19.268</td> <th>  Durbin-Watson:     </th> <td>   1.201</td>\n",
       "</tr>\n",
       "<tr>\n",
       "  <th>Prob(Omnibus):</th> <td> 0.000</td> <th>  Jarque-Bera (JB):  </th> <td>  72.625</td>\n",
       "</tr>\n",
       "<tr>\n",
       "  <th>Skew:</th>          <td>-0.709</td> <th>  Prob(JB):          </th> <td>1.70e-16</td>\n",
       "</tr>\n",
       "<tr>\n",
       "  <th>Kurtosis:</th>      <td> 8.731</td> <th>  Cond. No.          </th> <td>6.22e+03</td>\n",
       "</tr>\n",
       "</table><br/><br/>Notes:<br/>[1] Standard Errors assume that the covariance matrix of the errors is correctly specified.<br/>[2] The condition number is large, 6.22e+03. This might indicate that there are<br/>strong multicollinearity or other numerical problems."
      ],
      "text/plain": [
       "<class 'statsmodels.iolib.summary.Summary'>\n",
       "\"\"\"\n",
       "                            OLS Regression Results                            \n",
       "==============================================================================\n",
       "Dep. Variable:                 Profit   R-squared:                       0.926\n",
       "Model:                            OLS   Adj. R-squared:                  0.920\n",
       "Method:                 Least Squares   F-statistic:                     141.7\n",
       "Date:                Tue, 10 Jan 2023   Prob (F-statistic):           6.92e-25\n",
       "Time:                        23:26:59   Log-Likelihood:                -98.651\n",
       "No. Observations:                  50   AIC:                             207.3\n",
       "Df Residuals:                      45   BIC:                             216.9\n",
       "Df Model:                           4                                         \n",
       "Covariance Type:            nonrobust                                         \n",
       "====================================================================================\n",
       "                       coef    std err          t      P>|t|      [0.025      0.975]\n",
       "------------------------------------------------------------------------------------\n",
       "R&D Spend            0.0591      0.003     22.704      0.000       0.054       0.064\n",
       "Administration      -0.0038      0.006     -0.589      0.559      -0.017       0.009\n",
       "State_California    33.6201      2.170     15.493      0.000      29.250      37.991\n",
       "State_Florida       34.0067      2.191     15.523      0.000      29.594      38.419\n",
       "State_New York      34.0728      2.174     15.670      0.000      29.693      38.452\n",
       "==============================================================================\n",
       "Omnibus:                       19.268   Durbin-Watson:                   1.201\n",
       "Prob(Omnibus):                  0.000   Jarque-Bera (JB):               72.625\n",
       "Skew:                          -0.709   Prob(JB):                     1.70e-16\n",
       "Kurtosis:                       8.731   Cond. No.                     6.22e+03\n",
       "==============================================================================\n",
       "\n",
       "Notes:\n",
       "[1] Standard Errors assume that the covariance matrix of the errors is correctly specified.\n",
       "[2] The condition number is large, 6.22e+03. This might indicate that there are\n",
       "strong multicollinearity or other numerical problems.\n",
       "\"\"\""
      ]
     },
     "execution_count": 99,
     "metadata": {},
     "output_type": "execute_result"
    }
   ],
   "source": [
    "model8=sm.OLS(np.cbrt(y),np.sqrt(x)).fit()\n",
    "model8.summary()"
   ]
  },
  {
   "cell_type": "markdown",
   "id": "a5b440d5",
   "metadata": {},
   "source": [
    "### Has accuracy 92%"
   ]
  },
  {
   "cell_type": "markdown",
   "id": "d2c34ce0",
   "metadata": {},
   "source": [
    "### SUMMARISING ACCURACY OF ALL MODELS"
   ]
  },
  {
   "cell_type": "code",
   "execution_count": 100,
   "id": "f9475d0e",
   "metadata": {},
   "outputs": [],
   "source": [
    "performance_matrix=pd.DataFrame() "
   ]
  },
  {
   "cell_type": "code",
   "execution_count": 101,
   "id": "55d73fe3",
   "metadata": {},
   "outputs": [],
   "source": [
    "sqr=[]\n",
    "adj_r=[]\n",
    "for i in [model3,model4,model5,model6,model7,model8]:\n",
    "    r=np.round(i.rsquared,4)*100\n",
    "    a_r=np.round(i.rsquared_adj,4)*100\n",
    "    rr=sqr.append(r)\n",
    "    arr=adj_r.append(a_r)  "
   ]
  },
  {
   "cell_type": "code",
   "execution_count": 102,
   "id": "da7e05fc",
   "metadata": {},
   "outputs": [
    {
     "data": {
      "text/html": [
       "<div>\n",
       "<style scoped>\n",
       "    .dataframe tbody tr th:only-of-type {\n",
       "        vertical-align: middle;\n",
       "    }\n",
       "\n",
       "    .dataframe tbody tr th {\n",
       "        vertical-align: top;\n",
       "    }\n",
       "\n",
       "    .dataframe thead th {\n",
       "        text-align: right;\n",
       "    }\n",
       "</style>\n",
       "<table border=\"1\" class=\"dataframe\">\n",
       "  <thead>\n",
       "    <tr style=\"text-align: right;\">\n",
       "      <th></th>\n",
       "      <th>R_square_value(in%)</th>\n",
       "      <th>Adjusted_R_Square_value(in%)</th>\n",
       "      <th>Models</th>\n",
       "      <th>Transformations</th>\n",
       "    </tr>\n",
       "  </thead>\n",
       "  <tbody>\n",
       "    <tr>\n",
       "      <th>0</th>\n",
       "      <td>94.87</td>\n",
       "      <td>94.41</td>\n",
       "      <td>model3</td>\n",
       "      <td>No</td>\n",
       "    </tr>\n",
       "    <tr>\n",
       "      <th>1</th>\n",
       "      <td>77.33</td>\n",
       "      <td>75.32</td>\n",
       "      <td>model4</td>\n",
       "      <td>log(to Y)</td>\n",
       "    </tr>\n",
       "    <tr>\n",
       "      <th>2</th>\n",
       "      <td>93.21</td>\n",
       "      <td>92.60</td>\n",
       "      <td>model5</td>\n",
       "      <td>square root(to x and y)</td>\n",
       "    </tr>\n",
       "    <tr>\n",
       "      <th>3</th>\n",
       "      <td>94.61</td>\n",
       "      <td>94.13</td>\n",
       "      <td>model6</td>\n",
       "      <td>boxcox(to y)</td>\n",
       "    </tr>\n",
       "    <tr>\n",
       "      <th>4</th>\n",
       "      <td>91.05</td>\n",
       "      <td>90.26</td>\n",
       "      <td>model7</td>\n",
       "      <td>Cuberoot(to x and y)</td>\n",
       "    </tr>\n",
       "    <tr>\n",
       "      <th>5</th>\n",
       "      <td>92.64</td>\n",
       "      <td>91.99</td>\n",
       "      <td>model8</td>\n",
       "      <td>squareroot and cuberoot</td>\n",
       "    </tr>\n",
       "  </tbody>\n",
       "</table>\n",
       "</div>"
      ],
      "text/plain": [
       "   R_square_value(in%)  Adjusted_R_Square_value(in%)  Models  \\\n",
       "0                94.87                         94.41  model3   \n",
       "1                77.33                         75.32  model4   \n",
       "2                93.21                         92.60  model5   \n",
       "3                94.61                         94.13  model6   \n",
       "4                91.05                         90.26  model7   \n",
       "5                92.64                         91.99  model8   \n",
       "\n",
       "           Transformations  \n",
       "0                       No  \n",
       "1                log(to Y)  \n",
       "2  square root(to x and y)  \n",
       "3             boxcox(to y)  \n",
       "4     Cuberoot(to x and y)  \n",
       "5  squareroot and cuberoot  "
      ]
     },
     "execution_count": 102,
     "metadata": {},
     "output_type": "execute_result"
    }
   ],
   "source": [
    "performance_matrix[\"R_square_value(in%)\"]=sqr\n",
    "performance_matrix[\"Adjusted_R_Square_value(in%)\"] = adj_r\n",
    "performance_matrix[\"Models\"]=['model3','model4','model5','model6','model7','model8']\n",
    "performance_matrix['Transformations']=[\"No\",\"log(to Y)\",\"square root(to x and y)\",\"boxcox(to y)\",\"Cuberoot(to x and y)\",\"squareroot and cuberoot\"]\n",
    "performance_matrix"
   ]
  },
  {
   "cell_type": "markdown",
   "id": "6c81e5f1",
   "metadata": {},
   "source": [
    "## Thus, the Model With no Transformation is more accurate"
   ]
  },
  {
   "cell_type": "code",
   "execution_count": null,
   "id": "fdb17936",
   "metadata": {},
   "outputs": [],
   "source": []
  },
  {
   "cell_type": "code",
   "execution_count": null,
   "id": "be3b164c",
   "metadata": {},
   "outputs": [],
   "source": []
  }
 ],
 "metadata": {
  "kernelspec": {
   "display_name": "Python 3 (ipykernel)",
   "language": "python",
   "name": "python3"
  },
  "language_info": {
   "codemirror_mode": {
    "name": "ipython",
    "version": 3
   },
   "file_extension": ".py",
   "mimetype": "text/x-python",
   "name": "python",
   "nbconvert_exporter": "python",
   "pygments_lexer": "ipython3",
   "version": "3.9.7"
  }
 },
 "nbformat": 4,
 "nbformat_minor": 5
}
